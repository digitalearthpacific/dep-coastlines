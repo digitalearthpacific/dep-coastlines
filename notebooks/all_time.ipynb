{
 "cells": [
  {
   "cell_type": "code",
   "execution_count": 5,
   "metadata": {},
   "outputs": [],
   "source": [
    "import folium\n",
    "import geopandas as gpd\n",
    "import odc.geo\n",
    "import pandas as pd\n",
    "from dea_tools.spatial import subpixel_contours\n",
    "from dep_tools.namers import DepItemPath\n",
    "from dep_coastlines.MosaicLoader import DeluxeMosaicLoader\n",
    "from shapely import polygonize\n"
   ]
  },
  {
   "cell_type": "code",
   "execution_count": 6,
   "metadata": {},
   "outputs": [],
   "source": [
    "from dea_tools.classification import predict_xr\n",
    "from dask.distributed import Client\n",
    "from joblib import load\n",
    "mask_model = load(\"../data/model_9Feb_2.joblib\")\n",
    "model = mask_model['model']\n",
    "columns = mask_model['predictor_columns']\n",
    "response_column = mask_model['response_column']\n",
    "codes = mask_model['codes']\n",
    "these_codes = codes.groupby(response_column).first()\n",
    "\n",
    "def colormap(value, **kwargs):\n",
    "    return these_codes.loc[value,'color']\n",
    "\n",
    "def code_for_name(name):\n",
    "    return these_codes.reset_index().set_index('code').loc[name, response_column]\n",
    "\n",
    "def get_model_mask(xr, model=model, columns=columns):\n",
    "    with Client():\n",
    "        mask = predict_xr(model, xr[columns], clean=True).Predictions.rio.write_crs(xr.rio.crs)\n",
    "\n",
    "    return mask"
   ]
  },
  {
   "cell_type": "code",
   "execution_count": 7,
   "metadata": {},
   "outputs": [],
   "source": [
    "import xrspatial as xs\n",
    "import xarray as xr\n",
    "from skimage.measure import label\n",
    "\n",
    "def expand(bool_xr):\n",
    "    return xs.focal.mean(bool_xr) > 0\n",
    "\n",
    "def remove_disconnected_land(certain_land, candidate_land):\n",
    "    zones = xr.apply_ufunc(label, candidate_land, None, 0,dask=\"parallelized\", kwargs=dict(connectivity=1))\n",
    "    connected_or_not = xs.zonal_stats(zones, certain_land.astype(\"int8\"), stats_funcs=[\"max\"])\n",
    "    connected_zones = connected_or_not[\"zone\"][connected_or_not[\"max\"] == 1]\n",
    "    return candidate_land.where(zones.isin(connected_zones))\n",
    "\n",
    "\n"
   ]
  },
  {
   "cell_type": "code",
   "execution_count": 8,
   "metadata": {},
   "outputs": [
    {
     "ename": "TypeError",
     "evalue": "MultiyearMosaicLoader.__init__() got an unexpected keyword argument 'itempath'",
     "output_type": "error",
     "traceback": [
      "\u001b[0;31m---------------------------------------------------------------------------\u001b[0m",
      "\u001b[0;31mTypeError\u001b[0m                                 Traceback (most recent call last)",
      "Cell \u001b[0;32mIn[8], line 2\u001b[0m\n\u001b[1;32m      1\u001b[0m itempath \u001b[38;5;241m=\u001b[39m DepItemPath(\u001b[38;5;124m\"\u001b[39m\u001b[38;5;124mls\u001b[39m\u001b[38;5;124m\"\u001b[39m, \u001b[38;5;124m\"\u001b[39m\u001b[38;5;124mcoastlines/mosaics-corrected\u001b[39m\u001b[38;5;124m\"\u001b[39m, \u001b[38;5;124m\"\u001b[39m\u001b[38;5;124m0.6.0\u001b[39m\u001b[38;5;124m\"\u001b[39m, \u001b[38;5;124m\"\u001b[39m\u001b[38;5;124m2001_2005\u001b[39m\u001b[38;5;124m\"\u001b[39m, zero_pad_numbers\u001b[38;5;241m=\u001b[39m\u001b[38;5;28;01mTrue\u001b[39;00m)\n\u001b[0;32m----> 2\u001b[0m loader \u001b[38;5;241m=\u001b[39m \u001b[43mDeluxeMosaicLoader\u001b[49m\u001b[43m(\u001b[49m\u001b[43mitempath\u001b[49m\u001b[38;5;241;43m=\u001b[39;49m\u001b[43mitempath\u001b[49m\u001b[43m)\u001b[49m\n\u001b[1;32m      4\u001b[0m \u001b[38;5;28mid\u001b[39m \u001b[38;5;241m=\u001b[39m [(\u001b[38;5;241m62\u001b[39m,\u001b[38;5;241m30\u001b[39m)]\n\u001b[1;32m      5\u001b[0m df \u001b[38;5;241m=\u001b[39m pd\u001b[38;5;241m.\u001b[39mDataFrame([\u001b[38;5;241m0\u001b[39m])\n",
      "File \u001b[0;32m~/Projects/D4D/dep-coastlines/dep_coastlines/MosaicLoader.py:128\u001b[0m, in \u001b[0;36mDeluxeMosaicLoader.__init__\u001b[0;34m(self, **kwargs)\u001b[0m\n\u001b[1;32m    127\u001b[0m \u001b[38;5;28;01mdef\u001b[39;00m \u001b[38;5;21m__init__\u001b[39m(\u001b[38;5;28mself\u001b[39m, \u001b[38;5;241m*\u001b[39m\u001b[38;5;241m*\u001b[39mkwargs):\n\u001b[0;32m--> 128\u001b[0m     \u001b[38;5;28;43msuper\u001b[39;49m\u001b[43m(\u001b[49m\u001b[43m)\u001b[49m\u001b[38;5;241;43m.\u001b[39;49m\u001b[38;5;21;43m__init__\u001b[39;49m\u001b[43m(\u001b[49m\u001b[38;5;241;43m*\u001b[39;49m\u001b[38;5;241;43m*\u001b[39;49m\u001b[43mkwargs\u001b[49m\u001b[43m)\u001b[49m\n\u001b[1;32m    129\u001b[0m     all_time_namer \u001b[38;5;241m=\u001b[39m DepItemPath(\n\u001b[1;32m    130\u001b[0m         sensor\u001b[38;5;241m=\u001b[39m\u001b[38;5;124m\"\u001b[39m\u001b[38;5;124mls\u001b[39m\u001b[38;5;124m\"\u001b[39m,\n\u001b[1;32m    131\u001b[0m         dataset_id\u001b[38;5;241m=\u001b[39m\u001b[38;5;124m\"\u001b[39m\u001b[38;5;124mcoastlines/mosaics-corrected\u001b[39m\u001b[38;5;124m\"\u001b[39m,\n\u001b[0;32m   (...)\u001b[0m\n\u001b[1;32m    134\u001b[0m         zero_pad_numbers\u001b[38;5;241m=\u001b[39m\u001b[38;5;28;01mTrue\u001b[39;00m,\n\u001b[1;32m    135\u001b[0m     )\n\u001b[1;32m    136\u001b[0m     \u001b[38;5;28mself\u001b[39m\u001b[38;5;241m.\u001b[39m_allTimeLoader \u001b[38;5;241m=\u001b[39m MosaicLoader(all_time_namer)\n",
      "\u001b[0;31mTypeError\u001b[0m: MultiyearMosaicLoader.__init__() got an unexpected keyword argument 'itempath'"
     ]
    }
   ],
   "source": [
    "itempath = DepItemPath(\"ls\", \"coastlines/mosaics-corrected\", \"0.6.0\", \"2001_2005\", zero_pad_numbers=True)\n",
    "loader = DeluxeMosaicLoader(itempath=itempath)\n",
    "\n",
    "id = [(62,30)]\n",
    "df = pd.DataFrame([0])\n",
    "df.index = id\n",
    "df\n",
    "from odc.algo import mask_cleanup\n",
    "\n",
    "ds = loader.load(df)\n",
    "#mask = get_model_mask(ds)\n",
    "#clean_area = expand(mask != code_for_name('noisy_water'))\n",
    "consensus = (ds.nir08 > 1280) & (ds.mndwi < 0) & (ds.ndwi < 0)\n",
    "expanded = expand(consensus)\n",
    "#consensus.odc.explore()\n",
    "connected_areas = remove_disconnected_land(consensus, ds.nir08 > 1280.) == 1\n",
    "land_plus_one = mask_cleanup(connected_areas, mask_filters=[(\"dilation\", 3)])\n",
    "land_minus_one = mask_cleanup(connected_areas, mask_filters=[(\"erosion\", 2)])\n",
    "\n",
    "# erosion of 2 here borks e.g. funafuti but is needed for e.g. shoreline of tongatapu\n",
    "# maybe only erode areas not in consensus land?\n",
    "# This works for tongatapu but not funafuti\n",
    "#analysis_zone = mask_cleanup(connected_areas, mask_filters=[(\"erosion\", 2), (\"dilation\",2)])\n",
    "# \n",
    "suspicious_connected_areas = (ds.nir08 > 1280) & (xs.focal.mean(consensus) == 0)\n",
    "sca_clean = mask_cleanup(suspicious_connected_areas, mask_filters=[(\"erosion\", 2), (\"dilation\",2)])\n",
    "analysis_zone = connected_areas & ~suspicious_connected_areas\n",
    "# Only expand where there's an edge that's land\n",
    "analysis_zone = analysis_zone | mask_cleanup(ds.nir08.where(analysis_zone) > 1280., mask_filters=[(\"dilation\", 1)])\n",
    "analysis_zone = analysis_zone | mask_cleanup(ds.nir08.where(analysis_zone) > 1280., mask_filters=[(\"dilation\", 1)])\n",
    "analysis_zone = analysis_zone | mask_cleanup(ds.nir08.where(analysis_zone) > 1280., mask_filters=[(\"dilation\", 1)])\n",
    "analysis_zone = analysis_zone | mask_cleanup(ds.nir08.where(analysis_zone) > 1280., mask_filters=[(\"dilation\", 1)])\n",
    "analysis_zone = analysis_zone | mask_cleanup(ds.nir08.where(analysis_zone) > 1280., mask_filters=[(\"dilation\", 1)])\n",
    "analysis_zone = analysis_zone | mask_cleanup(ds.nir08.where(analysis_zone) > 1280., mask_filters=[(\"dilation\", 1)])\n",
    "analysis_zone = analysis_zone | mask_cleanup(ds.nir08.where(analysis_zone) > 1280., mask_filters=[(\"dilation\", 1)])\n",
    "analysis_zone = analysis_zone | mask_cleanup(ds.nir08.where(analysis_zone) > 1280., mask_filters=[(\"dilation\", 1)])\n",
    "#(ds.nir08.where(analysis_zone) > 1280).odc.explore()\n",
    "ds.nir08.odc.explore()\n"
   ]
  },
  {
   "cell_type": "code",
   "execution_count": 5,
   "metadata": {},
   "outputs": [],
   "source": [
    "from dep_coastlines.raster_cleaning import load_gadm_land, find_inland_areas\n",
    "\n",
    "def find_inland_2d(water, ocean):\n",
    "    water_zones = xr.full_like(water, 0, dtype=\"int16\")\n",
    "    water_zones.values = label(water.astype(\"int8\"), background=0)\n",
    "    location_by_zone = xs.zonal_stats(\n",
    "        water_zones, ocean.astype(\"int8\").compute(), stats_funcs=[\"max\"]\n",
    "    )\n",
    "    inland_zones = location_by_zone[\"zone\"][location_by_zone[\"max\"] == 0]\n",
    "    return water_zones.isin(inland_zones)\n",
    "\n",
    "\n",
    "gadm_land = load_gadm_land(ds)\n",
    "gadm_ocean = mask_cleanup(~gadm_land, mask_filters = [(\"erosion\", 2)])\n",
    "water_bool = ds.nir08 < 1280\n",
    "inland_areas = find_inland_2d(water_bool, gadm_ocean)\n"
   ]
  },
  {
   "cell_type": "code",
   "execution_count": 4,
   "metadata": {},
   "outputs": [
    {
     "ename": "NameError",
     "evalue": "name 'subpixel_contours' is not defined",
     "output_type": "error",
     "traceback": [
      "\u001b[0;31m---------------------------------------------------------------------------\u001b[0m",
      "\u001b[0;31mNameError\u001b[0m                                 Traceback (most recent call last)",
      "Cell \u001b[0;32mIn[4], line 2\u001b[0m\n\u001b[1;32m      1\u001b[0m \u001b[38;5;66;03m# zero here closes off \"corners\" that azone will not expand into. Need to be careful though!\u001b[39;00m\n\u001b[0;32m----> 2\u001b[0m lines \u001b[38;5;241m=\u001b[39m \u001b[43msubpixel_contours\u001b[49m(ds\u001b[38;5;241m.\u001b[39mnir08\u001b[38;5;241m.\u001b[39mwhere(analysis_zone,\u001b[38;5;241m0\u001b[39m)\u001b[38;5;241m.\u001b[39mwhere(\u001b[38;5;241m~\u001b[39minland_areas), \u001b[38;5;241m1280.0\u001b[39m)\u001b[38;5;241m.\u001b[39massign(source \u001b[38;5;241m=\u001b[39m \u001b[38;5;124m\"\u001b[39m\u001b[38;5;124mnir08\u001b[39m\u001b[38;5;124m\"\u001b[39m)\n\u001b[1;32m      3\u001b[0m \u001b[38;5;66;03m#ndwi_lines = subpixel_contours(ds.ndwi.where(analysis_zone)).assign(source=\"ndwi\")\u001b[39;00m\n\u001b[1;32m      4\u001b[0m m \u001b[38;5;241m=\u001b[39m lines\u001b[38;5;241m.\u001b[39mexplore(color\u001b[38;5;241m=\u001b[39m\u001b[38;5;124m\"\u001b[39m\u001b[38;5;124mblack\u001b[39m\u001b[38;5;124m\"\u001b[39m)\n",
      "\u001b[0;31mNameError\u001b[0m: name 'subpixel_contours' is not defined"
     ]
    }
   ],
   "source": [
    "# zero here closes off \"corners\" that azone will not expand into. Need to be careful though!\n",
    "lines = subpixel_contours(ds.nir08.where(analysis_zone,0).where(~inland_areas), 1280.0).assign(source = \"nir08\")\n",
    "#ndwi_lines = subpixel_contours(ds.ndwi.where(analysis_zone)).assign(source=\"ndwi\")\n",
    "m = lines.explore(color=\"black\")\n",
    "ds.nir08.where(analysis_zone).odc.explore(map=m)\n",
    "#mndwi_lines = subpixel_contours(ready.mndwi).assign(source=\"mndwi\")\n",
    "\n"
   ]
  },
  {
   "cell_type": "code",
   "execution_count": null,
   "metadata": {},
   "outputs": [],
   "source": [
    "\n",
    "m = lines.explore(color=\"green\")\n",
    "folium.LayerControl().add_to(m) \n",
    "\n",
    "m"
   ]
  }
 ],
 "metadata": {
  "kernelspec": {
   "display_name": "venv",
   "language": "python",
   "name": "python3"
  },
  "language_info": {
   "codemirror_mode": {
    "name": "ipython",
    "version": 3
   },
   "file_extension": ".py",
   "mimetype": "text/x-python",
   "name": "python",
   "nbconvert_exporter": "python",
   "pygments_lexer": "ipython3",
   "version": "3.10.11"
  }
 },
 "nbformat": 4,
 "nbformat_minor": 2
}
