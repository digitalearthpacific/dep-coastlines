{
 "cells": [
  {
   "cell_type": "code",
   "execution_count": 2,
   "metadata": {},
   "outputs": [],
   "source": [
    "import geopandas as gpd"
   ]
  },
  {
   "cell_type": "code",
   "execution_count": 54,
   "metadata": {},
   "outputs": [
    {
     "data": {
      "text/plain": [
       "row  column\n",
       "30   22        32654\n",
       "     38        32657\n",
       "28   30        32656\n",
       "21   62        32660\n",
       "29   30        32656\n",
       "               ...  \n",
       "51   42        32657\n",
       "35   22        32654\n",
       "54   23        32655\n",
       "49   13        32653\n",
       "35   28        32655\n",
       "Name: ZONE, Length: 506, dtype: object"
      ]
     },
     "execution_count": 54,
     "metadata": {},
     "output_type": "execute_result"
    }
   ],
   "source": [
    "utm_grid = (\n",
    "    gpd.read_file('../data/World_UTM_Grid_-8777149898303524843.gpkg')[lambda x: x['ZONE'] != 25]\n",
    "    .to_crs(3832)\n",
    "    .dissolve(by='ZONE')\n",
    "    .reset_index()\n",
    "    .assign(ZONE = lambda d: \"326\" + d.ZONE.astype('Int64').astype(str))\n",
    ")\n",
    "coastline_grid = gpd.read_file('../data/coastline_grid.gpkg')\n",
    "\n",
    "(\n",
    "    coastline_grid\n",
    "    .overlay(utm_grid, how=\"intersection\")\n",
    "    .assign(area = lambda r: r.geometry.area)\n",
    "    .sort_values('area', ascending=False)\n",
    "    # drops the second by default, e.g. the lower value(s)\n",
    "    .drop_duplicates(['row', 'column'])\n",
    "    .set_index(['row', 'column'])\n",
    ").ZONE"
   ]
  },
  {
   "cell_type": "code",
   "execution_count": null,
   "metadata": {},
   "outputs": [],
   "source": []
  }
 ],
 "metadata": {
  "kernelspec": {
   "display_name": "venv",
   "language": "python",
   "name": "python3"
  },
  "language_info": {
   "codemirror_mode": {
    "name": "ipython",
    "version": 3
   },
   "file_extension": ".py",
   "mimetype": "text/x-python",
   "name": "python",
   "nbconvert_exporter": "python",
   "pygments_lexer": "ipython3",
   "version": "3.10.11"
  }
 },
 "nbformat": 4,
 "nbformat_minor": 2
}
