{
 "cells": [
  {
   "cell_type": "code",
   "execution_count": null,
   "metadata": {},
   "outputs": [],
   "source": [
    "from dep_tools.azure import list_blob_container, get_container_client, download_blob\n",
    "import geopandas as gpd\n",
    "import pandas as pd\n",
    "from pathlib import Path"
   ]
  },
  {
   "cell_type": "code",
   "execution_count": null,
   "metadata": {},
   "outputs": [],
   "source": [
    "client = get_container_client()\n",
    "blobs = list(list_blob_container(client, \"coastlines/0-4-11/mndwi-clean-lines/\", \".gpkg\"))"
   ]
  },
  {
   "cell_type": "code",
   "execution_count": null,
   "metadata": {},
   "outputs": [],
   "source": [
    "# Shouldn't need to actually download them all, but that's what we're doing\n",
    "# So this simple method is commented out...\n",
    "# url = \"https://deppcpublicstorage.blob.core.windows.net/output/coastlines/0-4-11/coastlines_merged_3857_0-4-11.gpkg.zip\"\n",
    "# dfs = [gpd.read_file(url + blob, engine=\"pyogrio\") for blob in blobs]\n",
    "\n",
    "for blob in blobs:\n",
    "    out_file = Path(blob)\n",
    "    if out_file.exists():\n",
    "        continue\n",
    "    out_folder = out_file.parent\n",
    "    out_folder.mkdir(parents=True, exist_ok=True)\n",
    "    with open(blob, \"wb\") as f:\n",
    "        f.write(download_blob(client, blob))"
   ]
  },
  {
   "cell_type": "code",
   "execution_count": null,
   "metadata": {},
   "outputs": [],
   "source": [
    "# This is the method for the in-memory version\n",
    "# one_crs = [df.to_crs(\"epsg:3832\") for df in dfs]\n",
    "\n",
    "# This is for the on-disk version\n",
    "one_crs = [gpd.read_file(blob, engine=\"pyogrio\").to_crs(\"epsg:3857\") for blob in blobs]"
   ]
  },
  {
   "cell_type": "code",
   "execution_count": null,
   "metadata": {},
   "outputs": [],
   "source": [
    "# Merge all the geodataframes into one\n",
    "merged = gpd.GeoDataFrame(pd.concat(one_crs, ignore_index=True))"
   ]
  },
  {
   "cell_type": "code",
   "execution_count": null,
   "metadata": {},
   "outputs": [],
   "source": [
    "merged.to_file(\"coastlines_merged_3857.gpkg\", driver=\"GPKG\")"
   ]
  },
  {
   "cell_type": "code",
   "execution_count": null,
   "metadata": {},
   "outputs": [],
   "source": [
    "from dep_tools.azure import copy_to_blob_storage\n",
    "\n",
    "copy_to_blob_storage(client, \"coastlines_merged_3857_0-4-11.gpkg.zip\", \"coastlines/0-4-11/coastlines_merged_3857_0-4-11.gpkg.zip\")"
   ]
  }
 ],
 "metadata": {
  "kernelspec": {
   "display_name": "Python 3",
   "language": "python",
   "name": "python3"
  },
  "language_info": {
   "codemirror_mode": {
    "name": "ipython",
    "version": 3
   },
   "file_extension": ".py",
   "mimetype": "text/x-python",
   "name": "python",
   "nbconvert_exporter": "python",
   "pygments_lexer": "ipython3",
   "version": "3.11.5"
  },
  "orig_nbformat": 4
 },
 "nbformat": 4,
 "nbformat_minor": 2
}
